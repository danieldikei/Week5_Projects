{
  "nbformat": 4,
  "nbformat_minor": 0,
  "metadata": {
    "colab": {
      "provenance": [],
      "collapsed_sections": [
        "y7eHGTSKv8TW",
        "ZJ7UJlKnwJk3",
        "StemrBe2wkMj",
        "8BtAVP8fw3OH",
        "22oYzgXnxIcV",
        "DMJVaj_kxj42"
      ]
    },
    "kernelspec": {
      "name": "python3",
      "display_name": "Python 3"
    },
    "language_info": {
      "name": "python"
    }
  },
  "cells": [
    {
      "cell_type": "markdown",
      "metadata": {
        "id": "y7eHGTSKv8TW"
      },
      "source": [
        "# Project Notebook: Optimizing DataFrames and Processing in Chunks"
      ]
    },
    {
      "cell_type": "markdown",
      "metadata": {
        "id": "ZJ7UJlKnwJk3"
      },
      "source": [
        "## 1. Introduction"
      ]
    },
    {
      "cell_type": "markdown",
      "metadata": {
        "id": "UUyK3GcBv9mC"
      },
      "source": [
        "In this project, we'll practice working with chunked dataframes and optimizing a dataframe's memory usage. We'll be working with financial lending data from Lending Club, a marketplace for personal loans that matches borrowers with investors. You can read more about the marketplace on its website.\n",
        "\n",
        "The Lending Club's website lists approved loans. Qualified investors can view the borrower's credit score, the purpose of the loan, and other details in the loan applications. Once a lender is ready to back a loan, it selects the amount of money it wants to fund. When the loan amount the borrower requested is fully funded, the borrower receives the money, minus the origination fee that Lending Club charges.\n",
        "\n",
        "We'll be working with a dataset of loans approved from 2007-2011 (https://bit.ly/3H2XVgC). We've already removed the desc column for you to make our system run more quickly.\n",
        "\n",
        "If we read in the entire data set, it will consume about 67 megabytes of memory. Let's imagine that we only have 10 megabytes of memory available throughout this project, so you can practice the concepts you learned in the last two lessons.\n",
        "\n",
        "**Tasks**\n",
        "\n",
        "1. Read in the first five lines from `loans_2007.csv` (https://bit.ly/3H2XVgC) and look for any data quality issues.\n",
        "\n",
        "2. Read in the first 1000 rows from the data set, and calculate the total memory usage for these rows. Increase or decrease the number of rows to converge on a memory usage under five megabytes (to stay on the conservative side)."
      ]
    },
    {
      "cell_type": "code",
      "metadata": {
        "id": "Kc9NLSZ5vXPM",
        "colab": {
          "base_uri": "https://localhost:8080/",
          "height": 409
        },
        "outputId": "3b1d3810-1b72-4c03-fbcc-3b9c869e56d0"
      },
      "source": [
        "# Importing pandas\n",
        "import pandas as pd\n",
        "pd.options.display.max_columns = 99\n",
        "\n",
        "# Your code goes here\n",
        "df=pd.read_csv('loans_2007.csv', nrows=5)\n",
        "df"
      ],
      "execution_count": 1,
      "outputs": [
        {
          "output_type": "execute_result",
          "data": {
            "text/plain": [
              "        id  member_id  loan_amnt  funded_amnt  funded_amnt_inv        term  \\\n",
              "0  1077501  1296599.0     5000.0       5000.0           4975.0   36 months   \n",
              "1  1077430  1314167.0     2500.0       2500.0           2500.0   60 months   \n",
              "2  1077175  1313524.0     2400.0       2400.0           2400.0   36 months   \n",
              "3  1076863  1277178.0    10000.0      10000.0          10000.0   36 months   \n",
              "4  1075358  1311748.0     3000.0       3000.0           3000.0   60 months   \n",
              "\n",
              "  int_rate  installment grade sub_grade                 emp_title emp_length  \\\n",
              "0   10.65%       162.87     B        B2                       NaN  10+ years   \n",
              "1   15.27%        59.83     C        C4                     Ryder   < 1 year   \n",
              "2   15.96%        84.33     C        C5                       NaN  10+ years   \n",
              "3   13.49%       339.31     C        C1       AIR RESOURCES BOARD  10+ years   \n",
              "4   12.69%        67.79     B        B5  University Medical Group     1 year   \n",
              "\n",
              "  home_ownership  annual_inc verification_status   issue_d  loan_status  \\\n",
              "0           RENT     24000.0            Verified  Dec-2011   Fully Paid   \n",
              "1           RENT     30000.0     Source Verified  Dec-2011  Charged Off   \n",
              "2           RENT     12252.0        Not Verified  Dec-2011   Fully Paid   \n",
              "3           RENT     49200.0     Source Verified  Dec-2011   Fully Paid   \n",
              "4           RENT     80000.0     Source Verified  Dec-2011      Current   \n",
              "\n",
              "  pymnt_plan         purpose                 title zip_code addr_state    dti  \\\n",
              "0          n     credit_card              Computer    860xx         AZ  27.65   \n",
              "1          n             car                  bike    309xx         GA   1.00   \n",
              "2          n  small_business  real estate business    606xx         IL   8.72   \n",
              "3          n           other              personel    917xx         CA  20.00   \n",
              "4          n           other              Personal    972xx         OR  17.94   \n",
              "\n",
              "   delinq_2yrs earliest_cr_line  inq_last_6mths  open_acc  pub_rec  revol_bal  \\\n",
              "0          0.0         Jan-1985             1.0       3.0      0.0    13648.0   \n",
              "1          0.0         Apr-1999             5.0       3.0      0.0     1687.0   \n",
              "2          0.0         Nov-2001             2.0       2.0      0.0     2956.0   \n",
              "3          0.0         Feb-1996             1.0      10.0      0.0     5598.0   \n",
              "4          0.0         Jan-1996             0.0      15.0      0.0    27783.0   \n",
              "\n",
              "  revol_util  total_acc initial_list_status  out_prncp  out_prncp_inv  \\\n",
              "0      83.7%        9.0                   f       0.00           0.00   \n",
              "1       9.4%        4.0                   f       0.00           0.00   \n",
              "2      98.5%       10.0                   f       0.00           0.00   \n",
              "3        21%       37.0                   f       0.00           0.00   \n",
              "4      53.9%       38.0                   f     461.73         461.73   \n",
              "\n",
              "    total_pymnt  total_pymnt_inv  total_rec_prncp  total_rec_int  \\\n",
              "0   5863.155187          5833.84          5000.00         863.16   \n",
              "1   1008.710000          1008.71           456.46         435.17   \n",
              "2   3005.666844          3005.67          2400.00         605.67   \n",
              "3  12231.890000         12231.89         10000.00        2214.92   \n",
              "4   3581.120000          3581.12          2538.27        1042.85   \n",
              "\n",
              "   total_rec_late_fee  recoveries  collection_recovery_fee last_pymnt_d  \\\n",
              "0                0.00        0.00                     0.00     Jan-2015   \n",
              "1                0.00      117.08                     1.11     Apr-2013   \n",
              "2                0.00        0.00                     0.00     Jun-2014   \n",
              "3               16.97        0.00                     0.00     Jan-2015   \n",
              "4                0.00        0.00                     0.00     Jun-2016   \n",
              "\n",
              "   last_pymnt_amnt last_credit_pull_d  collections_12_mths_ex_med  \\\n",
              "0           171.62           Jun-2016                         0.0   \n",
              "1           119.66           Sep-2013                         0.0   \n",
              "2           649.91           Jun-2016                         0.0   \n",
              "3           357.48           Apr-2016                         0.0   \n",
              "4            67.79           Jun-2016                         0.0   \n",
              "\n",
              "   policy_code application_type  acc_now_delinq  chargeoff_within_12_mths  \\\n",
              "0          1.0       INDIVIDUAL             0.0                       0.0   \n",
              "1          1.0       INDIVIDUAL             0.0                       0.0   \n",
              "2          1.0       INDIVIDUAL             0.0                       0.0   \n",
              "3          1.0       INDIVIDUAL             0.0                       0.0   \n",
              "4          1.0       INDIVIDUAL             0.0                       0.0   \n",
              "\n",
              "   delinq_amnt  pub_rec_bankruptcies  tax_liens  \n",
              "0          0.0                   0.0        0.0  \n",
              "1          0.0                   0.0        0.0  \n",
              "2          0.0                   0.0        0.0  \n",
              "3          0.0                   0.0        0.0  \n",
              "4          0.0                   0.0        0.0  "
            ],
            "text/html": [
              "\n",
              "  <div id=\"df-cc2aef28-c422-411c-b124-13819cedd034\">\n",
              "    <div class=\"colab-df-container\">\n",
              "      <div>\n",
              "<style scoped>\n",
              "    .dataframe tbody tr th:only-of-type {\n",
              "        vertical-align: middle;\n",
              "    }\n",
              "\n",
              "    .dataframe tbody tr th {\n",
              "        vertical-align: top;\n",
              "    }\n",
              "\n",
              "    .dataframe thead th {\n",
              "        text-align: right;\n",
              "    }\n",
              "</style>\n",
              "<table border=\"1\" class=\"dataframe\">\n",
              "  <thead>\n",
              "    <tr style=\"text-align: right;\">\n",
              "      <th></th>\n",
              "      <th>id</th>\n",
              "      <th>member_id</th>\n",
              "      <th>loan_amnt</th>\n",
              "      <th>funded_amnt</th>\n",
              "      <th>funded_amnt_inv</th>\n",
              "      <th>term</th>\n",
              "      <th>int_rate</th>\n",
              "      <th>installment</th>\n",
              "      <th>grade</th>\n",
              "      <th>sub_grade</th>\n",
              "      <th>emp_title</th>\n",
              "      <th>emp_length</th>\n",
              "      <th>home_ownership</th>\n",
              "      <th>annual_inc</th>\n",
              "      <th>verification_status</th>\n",
              "      <th>issue_d</th>\n",
              "      <th>loan_status</th>\n",
              "      <th>pymnt_plan</th>\n",
              "      <th>purpose</th>\n",
              "      <th>title</th>\n",
              "      <th>zip_code</th>\n",
              "      <th>addr_state</th>\n",
              "      <th>dti</th>\n",
              "      <th>delinq_2yrs</th>\n",
              "      <th>earliest_cr_line</th>\n",
              "      <th>inq_last_6mths</th>\n",
              "      <th>open_acc</th>\n",
              "      <th>pub_rec</th>\n",
              "      <th>revol_bal</th>\n",
              "      <th>revol_util</th>\n",
              "      <th>total_acc</th>\n",
              "      <th>initial_list_status</th>\n",
              "      <th>out_prncp</th>\n",
              "      <th>out_prncp_inv</th>\n",
              "      <th>total_pymnt</th>\n",
              "      <th>total_pymnt_inv</th>\n",
              "      <th>total_rec_prncp</th>\n",
              "      <th>total_rec_int</th>\n",
              "      <th>total_rec_late_fee</th>\n",
              "      <th>recoveries</th>\n",
              "      <th>collection_recovery_fee</th>\n",
              "      <th>last_pymnt_d</th>\n",
              "      <th>last_pymnt_amnt</th>\n",
              "      <th>last_credit_pull_d</th>\n",
              "      <th>collections_12_mths_ex_med</th>\n",
              "      <th>policy_code</th>\n",
              "      <th>application_type</th>\n",
              "      <th>acc_now_delinq</th>\n",
              "      <th>chargeoff_within_12_mths</th>\n",
              "      <th>delinq_amnt</th>\n",
              "      <th>pub_rec_bankruptcies</th>\n",
              "      <th>tax_liens</th>\n",
              "    </tr>\n",
              "  </thead>\n",
              "  <tbody>\n",
              "    <tr>\n",
              "      <th>0</th>\n",
              "      <td>1077501</td>\n",
              "      <td>1296599.0</td>\n",
              "      <td>5000.0</td>\n",
              "      <td>5000.0</td>\n",
              "      <td>4975.0</td>\n",
              "      <td>36 months</td>\n",
              "      <td>10.65%</td>\n",
              "      <td>162.87</td>\n",
              "      <td>B</td>\n",
              "      <td>B2</td>\n",
              "      <td>NaN</td>\n",
              "      <td>10+ years</td>\n",
              "      <td>RENT</td>\n",
              "      <td>24000.0</td>\n",
              "      <td>Verified</td>\n",
              "      <td>Dec-2011</td>\n",
              "      <td>Fully Paid</td>\n",
              "      <td>n</td>\n",
              "      <td>credit_card</td>\n",
              "      <td>Computer</td>\n",
              "      <td>860xx</td>\n",
              "      <td>AZ</td>\n",
              "      <td>27.65</td>\n",
              "      <td>0.0</td>\n",
              "      <td>Jan-1985</td>\n",
              "      <td>1.0</td>\n",
              "      <td>3.0</td>\n",
              "      <td>0.0</td>\n",
              "      <td>13648.0</td>\n",
              "      <td>83.7%</td>\n",
              "      <td>9.0</td>\n",
              "      <td>f</td>\n",
              "      <td>0.00</td>\n",
              "      <td>0.00</td>\n",
              "      <td>5863.155187</td>\n",
              "      <td>5833.84</td>\n",
              "      <td>5000.00</td>\n",
              "      <td>863.16</td>\n",
              "      <td>0.00</td>\n",
              "      <td>0.00</td>\n",
              "      <td>0.00</td>\n",
              "      <td>Jan-2015</td>\n",
              "      <td>171.62</td>\n",
              "      <td>Jun-2016</td>\n",
              "      <td>0.0</td>\n",
              "      <td>1.0</td>\n",
              "      <td>INDIVIDUAL</td>\n",
              "      <td>0.0</td>\n",
              "      <td>0.0</td>\n",
              "      <td>0.0</td>\n",
              "      <td>0.0</td>\n",
              "      <td>0.0</td>\n",
              "    </tr>\n",
              "    <tr>\n",
              "      <th>1</th>\n",
              "      <td>1077430</td>\n",
              "      <td>1314167.0</td>\n",
              "      <td>2500.0</td>\n",
              "      <td>2500.0</td>\n",
              "      <td>2500.0</td>\n",
              "      <td>60 months</td>\n",
              "      <td>15.27%</td>\n",
              "      <td>59.83</td>\n",
              "      <td>C</td>\n",
              "      <td>C4</td>\n",
              "      <td>Ryder</td>\n",
              "      <td>&lt; 1 year</td>\n",
              "      <td>RENT</td>\n",
              "      <td>30000.0</td>\n",
              "      <td>Source Verified</td>\n",
              "      <td>Dec-2011</td>\n",
              "      <td>Charged Off</td>\n",
              "      <td>n</td>\n",
              "      <td>car</td>\n",
              "      <td>bike</td>\n",
              "      <td>309xx</td>\n",
              "      <td>GA</td>\n",
              "      <td>1.00</td>\n",
              "      <td>0.0</td>\n",
              "      <td>Apr-1999</td>\n",
              "      <td>5.0</td>\n",
              "      <td>3.0</td>\n",
              "      <td>0.0</td>\n",
              "      <td>1687.0</td>\n",
              "      <td>9.4%</td>\n",
              "      <td>4.0</td>\n",
              "      <td>f</td>\n",
              "      <td>0.00</td>\n",
              "      <td>0.00</td>\n",
              "      <td>1008.710000</td>\n",
              "      <td>1008.71</td>\n",
              "      <td>456.46</td>\n",
              "      <td>435.17</td>\n",
              "      <td>0.00</td>\n",
              "      <td>117.08</td>\n",
              "      <td>1.11</td>\n",
              "      <td>Apr-2013</td>\n",
              "      <td>119.66</td>\n",
              "      <td>Sep-2013</td>\n",
              "      <td>0.0</td>\n",
              "      <td>1.0</td>\n",
              "      <td>INDIVIDUAL</td>\n",
              "      <td>0.0</td>\n",
              "      <td>0.0</td>\n",
              "      <td>0.0</td>\n",
              "      <td>0.0</td>\n",
              "      <td>0.0</td>\n",
              "    </tr>\n",
              "    <tr>\n",
              "      <th>2</th>\n",
              "      <td>1077175</td>\n",
              "      <td>1313524.0</td>\n",
              "      <td>2400.0</td>\n",
              "      <td>2400.0</td>\n",
              "      <td>2400.0</td>\n",
              "      <td>36 months</td>\n",
              "      <td>15.96%</td>\n",
              "      <td>84.33</td>\n",
              "      <td>C</td>\n",
              "      <td>C5</td>\n",
              "      <td>NaN</td>\n",
              "      <td>10+ years</td>\n",
              "      <td>RENT</td>\n",
              "      <td>12252.0</td>\n",
              "      <td>Not Verified</td>\n",
              "      <td>Dec-2011</td>\n",
              "      <td>Fully Paid</td>\n",
              "      <td>n</td>\n",
              "      <td>small_business</td>\n",
              "      <td>real estate business</td>\n",
              "      <td>606xx</td>\n",
              "      <td>IL</td>\n",
              "      <td>8.72</td>\n",
              "      <td>0.0</td>\n",
              "      <td>Nov-2001</td>\n",
              "      <td>2.0</td>\n",
              "      <td>2.0</td>\n",
              "      <td>0.0</td>\n",
              "      <td>2956.0</td>\n",
              "      <td>98.5%</td>\n",
              "      <td>10.0</td>\n",
              "      <td>f</td>\n",
              "      <td>0.00</td>\n",
              "      <td>0.00</td>\n",
              "      <td>3005.666844</td>\n",
              "      <td>3005.67</td>\n",
              "      <td>2400.00</td>\n",
              "      <td>605.67</td>\n",
              "      <td>0.00</td>\n",
              "      <td>0.00</td>\n",
              "      <td>0.00</td>\n",
              "      <td>Jun-2014</td>\n",
              "      <td>649.91</td>\n",
              "      <td>Jun-2016</td>\n",
              "      <td>0.0</td>\n",
              "      <td>1.0</td>\n",
              "      <td>INDIVIDUAL</td>\n",
              "      <td>0.0</td>\n",
              "      <td>0.0</td>\n",
              "      <td>0.0</td>\n",
              "      <td>0.0</td>\n",
              "      <td>0.0</td>\n",
              "    </tr>\n",
              "    <tr>\n",
              "      <th>3</th>\n",
              "      <td>1076863</td>\n",
              "      <td>1277178.0</td>\n",
              "      <td>10000.0</td>\n",
              "      <td>10000.0</td>\n",
              "      <td>10000.0</td>\n",
              "      <td>36 months</td>\n",
              "      <td>13.49%</td>\n",
              "      <td>339.31</td>\n",
              "      <td>C</td>\n",
              "      <td>C1</td>\n",
              "      <td>AIR RESOURCES BOARD</td>\n",
              "      <td>10+ years</td>\n",
              "      <td>RENT</td>\n",
              "      <td>49200.0</td>\n",
              "      <td>Source Verified</td>\n",
              "      <td>Dec-2011</td>\n",
              "      <td>Fully Paid</td>\n",
              "      <td>n</td>\n",
              "      <td>other</td>\n",
              "      <td>personel</td>\n",
              "      <td>917xx</td>\n",
              "      <td>CA</td>\n",
              "      <td>20.00</td>\n",
              "      <td>0.0</td>\n",
              "      <td>Feb-1996</td>\n",
              "      <td>1.0</td>\n",
              "      <td>10.0</td>\n",
              "      <td>0.0</td>\n",
              "      <td>5598.0</td>\n",
              "      <td>21%</td>\n",
              "      <td>37.0</td>\n",
              "      <td>f</td>\n",
              "      <td>0.00</td>\n",
              "      <td>0.00</td>\n",
              "      <td>12231.890000</td>\n",
              "      <td>12231.89</td>\n",
              "      <td>10000.00</td>\n",
              "      <td>2214.92</td>\n",
              "      <td>16.97</td>\n",
              "      <td>0.00</td>\n",
              "      <td>0.00</td>\n",
              "      <td>Jan-2015</td>\n",
              "      <td>357.48</td>\n",
              "      <td>Apr-2016</td>\n",
              "      <td>0.0</td>\n",
              "      <td>1.0</td>\n",
              "      <td>INDIVIDUAL</td>\n",
              "      <td>0.0</td>\n",
              "      <td>0.0</td>\n",
              "      <td>0.0</td>\n",
              "      <td>0.0</td>\n",
              "      <td>0.0</td>\n",
              "    </tr>\n",
              "    <tr>\n",
              "      <th>4</th>\n",
              "      <td>1075358</td>\n",
              "      <td>1311748.0</td>\n",
              "      <td>3000.0</td>\n",
              "      <td>3000.0</td>\n",
              "      <td>3000.0</td>\n",
              "      <td>60 months</td>\n",
              "      <td>12.69%</td>\n",
              "      <td>67.79</td>\n",
              "      <td>B</td>\n",
              "      <td>B5</td>\n",
              "      <td>University Medical Group</td>\n",
              "      <td>1 year</td>\n",
              "      <td>RENT</td>\n",
              "      <td>80000.0</td>\n",
              "      <td>Source Verified</td>\n",
              "      <td>Dec-2011</td>\n",
              "      <td>Current</td>\n",
              "      <td>n</td>\n",
              "      <td>other</td>\n",
              "      <td>Personal</td>\n",
              "      <td>972xx</td>\n",
              "      <td>OR</td>\n",
              "      <td>17.94</td>\n",
              "      <td>0.0</td>\n",
              "      <td>Jan-1996</td>\n",
              "      <td>0.0</td>\n",
              "      <td>15.0</td>\n",
              "      <td>0.0</td>\n",
              "      <td>27783.0</td>\n",
              "      <td>53.9%</td>\n",
              "      <td>38.0</td>\n",
              "      <td>f</td>\n",
              "      <td>461.73</td>\n",
              "      <td>461.73</td>\n",
              "      <td>3581.120000</td>\n",
              "      <td>3581.12</td>\n",
              "      <td>2538.27</td>\n",
              "      <td>1042.85</td>\n",
              "      <td>0.00</td>\n",
              "      <td>0.00</td>\n",
              "      <td>0.00</td>\n",
              "      <td>Jun-2016</td>\n",
              "      <td>67.79</td>\n",
              "      <td>Jun-2016</td>\n",
              "      <td>0.0</td>\n",
              "      <td>1.0</td>\n",
              "      <td>INDIVIDUAL</td>\n",
              "      <td>0.0</td>\n",
              "      <td>0.0</td>\n",
              "      <td>0.0</td>\n",
              "      <td>0.0</td>\n",
              "      <td>0.0</td>\n",
              "    </tr>\n",
              "  </tbody>\n",
              "</table>\n",
              "</div>\n",
              "      <button class=\"colab-df-convert\" onclick=\"convertToInteractive('df-cc2aef28-c422-411c-b124-13819cedd034')\"\n",
              "              title=\"Convert this dataframe to an interactive table.\"\n",
              "              style=\"display:none;\">\n",
              "        \n",
              "  <svg xmlns=\"http://www.w3.org/2000/svg\" height=\"24px\"viewBox=\"0 0 24 24\"\n",
              "       width=\"24px\">\n",
              "    <path d=\"M0 0h24v24H0V0z\" fill=\"none\"/>\n",
              "    <path d=\"M18.56 5.44l.94 2.06.94-2.06 2.06-.94-2.06-.94-.94-2.06-.94 2.06-2.06.94zm-11 1L8.5 8.5l.94-2.06 2.06-.94-2.06-.94L8.5 2.5l-.94 2.06-2.06.94zm10 10l.94 2.06.94-2.06 2.06-.94-2.06-.94-.94-2.06-.94 2.06-2.06.94z\"/><path d=\"M17.41 7.96l-1.37-1.37c-.4-.4-.92-.59-1.43-.59-.52 0-1.04.2-1.43.59L10.3 9.45l-7.72 7.72c-.78.78-.78 2.05 0 2.83L4 21.41c.39.39.9.59 1.41.59.51 0 1.02-.2 1.41-.59l7.78-7.78 2.81-2.81c.8-.78.8-2.07 0-2.86zM5.41 20L4 18.59l7.72-7.72 1.47 1.35L5.41 20z\"/>\n",
              "  </svg>\n",
              "      </button>\n",
              "      \n",
              "  <style>\n",
              "    .colab-df-container {\n",
              "      display:flex;\n",
              "      flex-wrap:wrap;\n",
              "      gap: 12px;\n",
              "    }\n",
              "\n",
              "    .colab-df-convert {\n",
              "      background-color: #E8F0FE;\n",
              "      border: none;\n",
              "      border-radius: 50%;\n",
              "      cursor: pointer;\n",
              "      display: none;\n",
              "      fill: #1967D2;\n",
              "      height: 32px;\n",
              "      padding: 0 0 0 0;\n",
              "      width: 32px;\n",
              "    }\n",
              "\n",
              "    .colab-df-convert:hover {\n",
              "      background-color: #E2EBFA;\n",
              "      box-shadow: 0px 1px 2px rgba(60, 64, 67, 0.3), 0px 1px 3px 1px rgba(60, 64, 67, 0.15);\n",
              "      fill: #174EA6;\n",
              "    }\n",
              "\n",
              "    [theme=dark] .colab-df-convert {\n",
              "      background-color: #3B4455;\n",
              "      fill: #D2E3FC;\n",
              "    }\n",
              "\n",
              "    [theme=dark] .colab-df-convert:hover {\n",
              "      background-color: #434B5C;\n",
              "      box-shadow: 0px 1px 3px 1px rgba(0, 0, 0, 0.15);\n",
              "      filter: drop-shadow(0px 1px 2px rgba(0, 0, 0, 0.3));\n",
              "      fill: #FFFFFF;\n",
              "    }\n",
              "  </style>\n",
              "\n",
              "      <script>\n",
              "        const buttonEl =\n",
              "          document.querySelector('#df-cc2aef28-c422-411c-b124-13819cedd034 button.colab-df-convert');\n",
              "        buttonEl.style.display =\n",
              "          google.colab.kernel.accessAllowed ? 'block' : 'none';\n",
              "\n",
              "        async function convertToInteractive(key) {\n",
              "          const element = document.querySelector('#df-cc2aef28-c422-411c-b124-13819cedd034');\n",
              "          const dataTable =\n",
              "            await google.colab.kernel.invokeFunction('convertToInteractive',\n",
              "                                                     [key], {});\n",
              "          if (!dataTable) return;\n",
              "\n",
              "          const docLinkHtml = 'Like what you see? Visit the ' +\n",
              "            '<a target=\"_blank\" href=https://colab.research.google.com/notebooks/data_table.ipynb>data table notebook</a>'\n",
              "            + ' to learn more about interactive tables.';\n",
              "          element.innerHTML = '';\n",
              "          dataTable['output_type'] = 'display_data';\n",
              "          await google.colab.output.renderOutput(dataTable, element);\n",
              "          const docLink = document.createElement('div');\n",
              "          docLink.innerHTML = docLinkHtml;\n",
              "          element.appendChild(docLink);\n",
              "        }\n",
              "      </script>\n",
              "    </div>\n",
              "  </div>\n",
              "  "
            ]
          },
          "metadata": {},
          "execution_count": 1
        }
      ]
    },
    {
      "cell_type": "code",
      "source": [
        "memory_chunk=pd.read_csv('loans_2007.csv', chunksize=1000)\n",
        "\n",
        "memory_footprints = []\n",
        "for i in memory_chunk:\n",
        "   memory_footprints.append(i.memory_usage(deep=True).sum()/(1024*1024))\n",
        "\n",
        "print(\"Memory Usage for first 1000 is : \",memory_footprints[0])\n",
        "memory_footprints"
      ],
      "metadata": {
        "colab": {
          "base_uri": "https://localhost:8080/"
        },
        "id": "7z-0uo6kDMAd",
        "outputId": "b5d76b67-3f0d-4331-8b94-c179054ea786"
      },
      "execution_count": 2,
      "outputs": [
        {
          "output_type": "stream",
          "name": "stdout",
          "text": [
            "Memory Usage for first 1000 is :  1.5273666381835938\n"
          ]
        },
        {
          "output_type": "execute_result",
          "data": {
            "text/plain": [
              "[1.5273666381835938,\n",
              " 1.5263128280639648,\n",
              " 1.5269670486450195,\n",
              " 1.5250205993652344,\n",
              " 1.5247983932495117,\n",
              " 1.5265741348266602,\n",
              " 1.5259695053100586,\n",
              " 1.5262346267700195,\n",
              " 1.5259466171264648,\n",
              " 1.5273265838623047,\n",
              " 1.5268049240112305,\n",
              " 1.5253715515136719,\n",
              " 1.5253772735595703,\n",
              " 1.5253572463989258,\n",
              " 1.5249614715576172,\n",
              " 1.5259675979614258,\n",
              " 1.5257463455200195,\n",
              " 1.525864601135254,\n",
              " 1.5247554779052734,\n",
              " 1.5260324478149414,\n",
              " 1.5253820419311523,\n",
              " 1.52679443359375,\n",
              " 1.5251598358154297,\n",
              " 1.5265846252441406,\n",
              " 1.5259370803833008,\n",
              " 1.524658203125,\n",
              " 1.5260696411132812,\n",
              " 1.525843620300293,\n",
              " 1.5256519317626953,\n",
              " 1.5252199172973633,\n",
              " 1.5306215286254883,\n",
              " 1.5302400588989258,\n",
              " 1.5285663604736328,\n",
              " 1.526381492614746,\n",
              " 1.5294208526611328,\n",
              " 1.5324926376342773,\n",
              " 1.531620979309082,\n",
              " 1.5323219299316406,\n",
              " 1.5311594009399414,\n",
              " 1.5893192291259766,\n",
              " 1.5646142959594727,\n",
              " 1.5697431564331055,\n",
              " 0.868586540222168]"
            ]
          },
          "metadata": {},
          "execution_count": 2
        }
      ]
    },
    {
      "cell_type": "code",
      "source": [
        "memory_chunk1=pd.read_csv('loans_2007.csv', chunksize=3250)\n",
        "\n",
        "memory_footprints1 = []\n",
        "for i in memory_chunk1:\n",
        "   memory_footprints1.append(i.memory_usage(deep=True).sum()/(1024*1024))\n",
        "\n",
        "print(\"Memory Usage for first 3250 is : \",memory_footprints1[0])\n"
      ],
      "metadata": {
        "colab": {
          "base_uri": "https://localhost:8080/"
        },
        "id": "fe68TeA-EEeS",
        "outputId": "6e2658b7-5b16-4ac3-b138-ff24180aed4c"
      },
      "execution_count": 7,
      "outputs": [
        {
          "output_type": "stream",
          "name": "stdout",
          "text": [
            "Memory Usage for first 3250 is :  4.962096214294434\n"
          ]
        }
      ]
    },
    {
      "cell_type": "markdown",
      "metadata": {
        "id": "StemrBe2wkMj"
      },
      "source": [
        "## 2. Exploring the Data in Chunks"
      ]
    },
    {
      "cell_type": "markdown",
      "metadata": {
        "id": "dm4p982Dwor5"
      },
      "source": [
        "Let's familiarize ourselves with the columns to see which ones we can optimize. In the first lesson, we explored column types by reading in the full dataframe. In this project, let's try to understand the column types better while using dataframe chunks.\n",
        "\n",
        "**Tasks**\n",
        "\n",
        "For each chunk:\n",
        "* How many columns have a numeric type?\n",
        "* How many have a string type?\n",
        "* How many unique values are there in each string column? How many of the string columns contain values that are less than 50% unique?\n",
        "* Which float columns have no missing values and could be candidates for conversion to the integer type?\n",
        "* Calculate the total memory usage across all of the chunks."
      ]
    },
    {
      "cell_type": "code",
      "metadata": {
        "id": "rjTUXAnJwzdx",
        "colab": {
          "base_uri": "https://localhost:8080/"
        },
        "outputId": "699d32f0-6a42-45e5-c51d-fc768ec98505"
      },
      "source": [
        "# Your code goes here\n",
        "chunk=pd.read_csv('loans_2007.csv', chunksize=3250)\n",
        "types=[c.dtypes for c in chunk]\n",
        "types[0].value_counts()"
      ],
      "execution_count": 9,
      "outputs": [
        {
          "output_type": "execute_result",
          "data": {
            "text/plain": [
              "float64    30\n",
              "object     21\n",
              "int64       1\n",
              "dtype: int64"
            ]
          },
          "metadata": {},
          "execution_count": 9
        }
      ]
    },
    {
      "cell_type": "markdown",
      "source": [
        "31 columns have numeric types(float and int)\n",
        "21 columns have string type"
      ],
      "metadata": {
        "id": "e2Iav3UIFXCL"
      }
    },
    {
      "cell_type": "code",
      "source": [
        "strcolumns = df.select_dtypes(include=[\"object\"])\n",
        "\n",
        "for column in strcolumns:\n",
        "    strcolumns_unique = df[column].nunique()\n",
        "    num_total = df[column].size\n",
        "    str_unique = strcolumns_unique / num_total\n",
        "    print(f\"{column}\\t\\t: {str_unique:.2%} unique\")"
      ],
      "metadata": {
        "colab": {
          "base_uri": "https://localhost:8080/"
        },
        "id": "lBexZw_JJ1Xp",
        "outputId": "5e48ebf4-3e3a-424d-b7f0-19c7f1cf2a37"
      },
      "execution_count": 25,
      "outputs": [
        {
          "output_type": "stream",
          "name": "stdout",
          "text": [
            "term\t\t: 40.00% unique\n",
            "int_rate\t\t: 100.00% unique\n",
            "grade\t\t: 40.00% unique\n",
            "sub_grade\t\t: 100.00% unique\n",
            "emp_title\t\t: 60.00% unique\n",
            "emp_length\t\t: 60.00% unique\n",
            "home_ownership\t\t: 20.00% unique\n",
            "verification_status\t\t: 60.00% unique\n",
            "issue_d\t\t: 20.00% unique\n",
            "loan_status\t\t: 60.00% unique\n",
            "pymnt_plan\t\t: 20.00% unique\n",
            "purpose\t\t: 80.00% unique\n",
            "title\t\t: 100.00% unique\n",
            "zip_code\t\t: 100.00% unique\n",
            "addr_state\t\t: 100.00% unique\n",
            "earliest_cr_line\t\t: 100.00% unique\n",
            "revol_util\t\t: 100.00% unique\n",
            "initial_list_status\t\t: 20.00% unique\n",
            "last_pymnt_d\t\t: 80.00% unique\n",
            "last_credit_pull_d\t\t: 60.00% unique\n",
            "application_type\t\t: 20.00% unique\n"
          ]
        }
      ]
    },
    {
      "cell_type": "markdown",
      "source": [
        "7 out of 21 columns have uniqueness below 50%"
      ],
      "metadata": {
        "id": "rV4ZyaH4LTkO"
      }
    },
    {
      "cell_type": "code",
      "source": [
        "floatCol = types[0].loc[lambda x : x == 'float64']\n",
        "lsFloatCols = floatCol.index.values.tolist()"
      ],
      "metadata": {
        "id": "XrcnC75kSIUg"
      },
      "execution_count": 37,
      "outputs": []
    },
    {
      "cell_type": "code",
      "source": [
        "import pandas as pd\n",
        "\n",
        "def nullCol(col):\n",
        "\n",
        "  chunk=pd.read_csv('loans_2007.csv', usecols=[col],chunksize=3250)\n",
        "  floatcl=list()\n",
        "\n",
        "  for i in chunk:\n",
        "    chunk_nan = i[col].isnull().sum()\n",
        "    floatcl.append(chunk_nan)\n",
        "\n",
        "  total = sum(floatcl)\n",
        "  print(f\"{col} || Total missing values -- {total}\")\n",
        "\n",
        "for col in lsFloatCols:\n",
        "  nullCol(col)"
      ],
      "metadata": {
        "colab": {
          "base_uri": "https://localhost:8080/"
        },
        "id": "ULqQT2hsMl2s",
        "outputId": "9dfe7294-0cd7-4457-9c52-d28887f87585"
      },
      "execution_count": 49,
      "outputs": [
        {
          "output_type": "stream",
          "name": "stdout",
          "text": [
            "member_id || Total missing values -- 3\n",
            "loan_amnt || Total missing values -- 3\n",
            "funded_amnt || Total missing values -- 3\n",
            "funded_amnt_inv || Total missing values -- 3\n",
            "installment || Total missing values -- 3\n",
            "annual_inc || Total missing values -- 7\n",
            "dti || Total missing values -- 3\n",
            "delinq_2yrs || Total missing values -- 32\n",
            "inq_last_6mths || Total missing values -- 32\n",
            "open_acc || Total missing values -- 32\n",
            "pub_rec || Total missing values -- 32\n",
            "revol_bal || Total missing values -- 3\n",
            "total_acc || Total missing values -- 32\n",
            "out_prncp || Total missing values -- 3\n",
            "out_prncp_inv || Total missing values -- 3\n",
            "total_pymnt || Total missing values -- 3\n",
            "total_pymnt_inv || Total missing values -- 3\n",
            "total_rec_prncp || Total missing values -- 3\n",
            "total_rec_int || Total missing values -- 3\n",
            "total_rec_late_fee || Total missing values -- 3\n",
            "recoveries || Total missing values -- 3\n",
            "collection_recovery_fee || Total missing values -- 3\n",
            "last_pymnt_amnt || Total missing values -- 3\n",
            "collections_12_mths_ex_med || Total missing values -- 148\n",
            "policy_code || Total missing values -- 3\n",
            "acc_now_delinq || Total missing values -- 32\n",
            "chargeoff_within_12_mths || Total missing values -- 148\n",
            "delinq_amnt || Total missing values -- 32\n",
            "pub_rec_bankruptcies || Total missing values -- 1368\n",
            "tax_liens || Total missing values -- 108\n"
          ]
        }
      ]
    },
    {
      "cell_type": "markdown",
      "source": [
        "All 30 columns that have float datatypes contain missing values"
      ],
      "metadata": {
        "id": "5BP_1hWsULH_"
      }
    },
    {
      "cell_type": "code",
      "source": [
        "file = pd.read_csv('loans_2007.csv')\n",
        "def getTotalMem(file,csize):\n",
        "  cnt=1\n",
        "\n",
        "  for ch in chunk:\n",
        "    mem=(ch.memory_usage(deep=True).sum()/(1024*1024))\n",
        "    print(f\"Chunk -- {cnt} || Total memory used[Mb] -- {mem}\")\n",
        "    cnt+=1\n",
        "\n",
        "getTotalMem(file,3250)"
      ],
      "metadata": {
        "colab": {
          "base_uri": "https://localhost:8080/"
        },
        "id": "oopJfc4GUjEu",
        "outputId": "c2ff5a23-f632-42a0-f667-ccd77e833d79"
      },
      "execution_count": 52,
      "outputs": [
        {
          "output_type": "stream",
          "name": "stderr",
          "text": [
            "<ipython-input-52-05397d19d90c>:1: DtypeWarning: Columns (0) have mixed types. Specify dtype option on import or set low_memory=False.\n",
            "  file = pd.read_csv('loans_2007.csv')\n"
          ]
        },
        {
          "output_type": "stream",
          "name": "stdout",
          "text": [
            "Chunk -- 1 || Total memory used[Mb] -- 4.95747184753418\n",
            "Chunk -- 2 || Total memory used[Mb] -- 4.960358619689941\n",
            "Chunk -- 3 || Total memory used[Mb] -- 4.959011077880859\n",
            "Chunk -- 4 || Total memory used[Mb] -- 4.958013534545898\n",
            "Chunk -- 5 || Total memory used[Mb] -- 4.956811904907227\n",
            "Chunk -- 6 || Total memory used[Mb] -- 4.959165573120117\n",
            "Chunk -- 7 || Total memory used[Mb] -- 4.958077430725098\n",
            "Chunk -- 8 || Total memory used[Mb] -- 4.9582977294921875\n",
            "Chunk -- 9 || Total memory used[Mb] -- 4.969363212585449\n",
            "Chunk -- 10 || Total memory used[Mb] -- 4.969138145446777\n",
            "Chunk -- 11 || Total memory used[Mb] -- 4.977678298950195\n",
            "Chunk -- 12 || Total memory used[Mb] -- 5.23378849029541\n",
            "Chunk -- 13 || Total memory used[Mb] -- 0.46311283111572266\n"
          ]
        }
      ]
    },
    {
      "cell_type": "markdown",
      "metadata": {
        "id": "8BtAVP8fw3OH"
      },
      "source": [
        "## 3. Optimizing String Columns"
      ]
    },
    {
      "cell_type": "markdown",
      "metadata": {
        "id": "ZkWArHAhw_bw"
      },
      "source": [
        "We can achieve the greatest memory improvements by converting the string columns to a numeric type. Let's convert all of the columns where the values are less than 50% unique to the category type, and the columns that contain numeric values to the `float` type.\n",
        "\n",
        "While working with dataframe chunks:\n",
        "* Determine which string columns you can convert to a numeric type if you clean them. For example, the `int_rate` column is only a string because of the % sign at the end.\n",
        "* Determine which columns have a few unique values and convert them to the category type. For example, you may want to convert the grade and `sub_grade` columns.\n",
        "Based on your conclusions, perform the necessary type changes across all chunks. * Calculate the total memory footprint, and compare it with the previous one."
      ]
    },
    {
      "cell_type": "code",
      "metadata": {
        "id": "FH0tcQlpxG9s",
        "colab": {
          "base_uri": "https://localhost:8080/"
        },
        "outputId": "d4e161d7-c72e-4d36-91f3-a67dfe36c1ca"
      },
      "source": [
        "# Your code goes here\n",
        "import pandas as pd\n",
        "chunk=pd.read_csv('loans_2007.csv')\n",
        "\n",
        "# convert int_rate to float\n",
        "chunk[\"int_rate\"] = chunk[\"int_rate\"].str.rstrip(\"%\").astype(float)\n",
        "\n",
        "# Convert grade and sub_grade columns to the category type\n",
        "chunk[\"grade\"] = chunk[\"grade\"].astype(\"category\")\n",
        "chunk[\"sub_grade\"] = chunk[\"sub_grade\"].astype(\"category\")\n",
        "\n",
        "# Calculate the total memory footprint of the dataframe\n",
        "total_memory = chunk.memory_usage(deep=True).sum()\n",
        "print(\"Total memory usage:\", total_memory)"
      ],
      "execution_count": 55,
      "outputs": [
        {
          "output_type": "stream",
          "name": "stdout",
          "text": [
            "Total memory usage: 62400231\n"
          ]
        },
        {
          "output_type": "stream",
          "name": "stderr",
          "text": [
            "<ipython-input-55-9ccb76dafc5c>:3: DtypeWarning: Columns (0) have mixed types. Specify dtype option on import or set low_memory=False.\n",
            "  chunk=pd.read_csv('loans_2007.csv')\n"
          ]
        }
      ]
    },
    {
      "cell_type": "markdown",
      "metadata": {
        "id": "22oYzgXnxIcV"
      },
      "source": [
        "## 4. Optimizing Numeric Columns"
      ]
    },
    {
      "cell_type": "markdown",
      "metadata": {
        "id": "bv5C20YrxPID"
      },
      "source": [
        "It looks like we were able to realize some powerful memory savings by converting to the category type and converting string columns to numeric ones.\n",
        "\n",
        "Now let's optimize the numeric columns using the `pandas.to_numeric()` function.\n",
        "\n",
        "**Tasks**\n",
        "\n",
        "While working with dataframe chunks:\n",
        "* Identify float columns that contain missing values, and that we can convert to a more space efficient subtype.\n",
        "* Identify float columns that don't contain any missing values, and that we can convert to the integer type because they represent whole numbers.\n",
        "* Based on your conclusions, perform the necessary type changes across all chunks.\n",
        "* Calculate the total memory footprint and compare it with the previous one.\n",
        "\n",
        "\n"
      ]
    },
    {
      "cell_type": "code",
      "metadata": {
        "id": "2S9KR57LxQ9d",
        "colab": {
          "base_uri": "https://localhost:8080/"
        },
        "outputId": "9b475c21-c75e-4a9f-c89b-fcb3a313b2d4"
      },
      "source": [
        "# Your code goes here\n",
        "float_columns = chunk.select_dtypes(include='float').columns\n",
        "\n",
        "float_columns_with_missing = chunk[float_columns].isnull().sum()[chunk[float_columns].isnull().sum() > 0]\n",
        "\n",
        "print(float_columns_with_missing)\n"
      ],
      "execution_count": 56,
      "outputs": [
        {
          "output_type": "stream",
          "name": "stdout",
          "text": [
            "member_id                        3\n",
            "loan_amnt                        3\n",
            "funded_amnt                      3\n",
            "funded_amnt_inv                  3\n",
            "int_rate                         3\n",
            "installment                      3\n",
            "annual_inc                       7\n",
            "dti                              3\n",
            "delinq_2yrs                     32\n",
            "inq_last_6mths                  32\n",
            "open_acc                        32\n",
            "pub_rec                         32\n",
            "revol_bal                        3\n",
            "total_acc                       32\n",
            "out_prncp                        3\n",
            "out_prncp_inv                    3\n",
            "total_pymnt                      3\n",
            "total_pymnt_inv                  3\n",
            "total_rec_prncp                  3\n",
            "total_rec_int                    3\n",
            "total_rec_late_fee               3\n",
            "recoveries                       3\n",
            "collection_recovery_fee          3\n",
            "last_pymnt_amnt                  3\n",
            "collections_12_mths_ex_med     148\n",
            "policy_code                      3\n",
            "acc_now_delinq                  32\n",
            "chargeoff_within_12_mths       148\n",
            "delinq_amnt                     32\n",
            "pub_rec_bankruptcies          1368\n",
            "tax_liens                      108\n",
            "dtype: int64\n"
          ]
        }
      ]
    },
    {
      "cell_type": "code",
      "source": [
        "float_cols_no_missing = df[float_columns].isnull().sum()[df[float_columns].isnull().sum() == 0]\n",
        "\n",
        "# Print float columns with no missing values\n",
        "print(float_cols_no_missing)\n",
        "chunk_lst = list()\n",
        "\n",
        "\n",
        "\n",
        "# Iterate over the chunks\n",
        "for chunk in pd.read_csv('loans_2007.csv', chunksize=3250):\n",
        "    float_cols = chunk.select_dtypes(include='float').columns\n",
        "    chunk[float_cols] = chunk[float_cols].astype('float32')\n",
        "    float_cols_no_missing = chunk[float_cols].isnull().sum()[chunk[float_cols].isnull().sum() == 0]\n",
        "\n",
        "    # Convert float columns with no missing values to integers\n",
        "    chunk[float_cols_no_missing.index] = pd.to_numeric(chunk[float_cols_no_missing.index], downcast='integer')\n",
        "\n",
        "    # Append chunk to list chunk_lst\n",
        "    chunk_lst.append(chunk)\n",
        "\n",
        "df_optimized = pd.concat(chunk_lst)"
      ],
      "metadata": {
        "colab": {
          "base_uri": "https://localhost:8080/",
          "height": 911
        },
        "id": "iJgMMO6XW525",
        "outputId": "d3bee752-d099-4bf7-bedb-668ed4f1cc52"
      },
      "execution_count": 58,
      "outputs": [
        {
          "output_type": "stream",
          "name": "stdout",
          "text": [
            "member_id                     0\n",
            "loan_amnt                     0\n",
            "funded_amnt                   0\n",
            "funded_amnt_inv               0\n",
            "int_rate                      0\n",
            "installment                   0\n",
            "annual_inc                    0\n",
            "dti                           0\n",
            "delinq_2yrs                   0\n",
            "inq_last_6mths                0\n",
            "open_acc                      0\n",
            "pub_rec                       0\n",
            "revol_bal                     0\n",
            "total_acc                     0\n",
            "out_prncp                     0\n",
            "out_prncp_inv                 0\n",
            "total_pymnt                   0\n",
            "total_pymnt_inv               0\n",
            "total_rec_prncp               0\n",
            "total_rec_int                 0\n",
            "total_rec_late_fee            0\n",
            "recoveries                    0\n",
            "collection_recovery_fee       0\n",
            "last_pymnt_amnt               0\n",
            "collections_12_mths_ex_med    0\n",
            "policy_code                   0\n",
            "acc_now_delinq                0\n",
            "chargeoff_within_12_mths      0\n",
            "delinq_amnt                   0\n",
            "pub_rec_bankruptcies          0\n",
            "tax_liens                     0\n",
            "dtype: int64\n"
          ]
        },
        {
          "output_type": "error",
          "ename": "TypeError",
          "evalue": "ignored",
          "traceback": [
            "\u001b[0;31m---------------------------------------------------------------------------\u001b[0m",
            "\u001b[0;31mTypeError\u001b[0m                                 Traceback (most recent call last)",
            "\u001b[0;32m<ipython-input-58-f73225cd4409>\u001b[0m in \u001b[0;36m<cell line: 10>\u001b[0;34m()\u001b[0m\n\u001b[1;32m     14\u001b[0m \u001b[0;34m\u001b[0m\u001b[0m\n\u001b[1;32m     15\u001b[0m     \u001b[0;31m# Convert float columns with no missing values to integers\u001b[0m\u001b[0;34m\u001b[0m\u001b[0;34m\u001b[0m\u001b[0m\n\u001b[0;32m---> 16\u001b[0;31m     \u001b[0mchunk\u001b[0m\u001b[0;34m[\u001b[0m\u001b[0mfloat_cols_no_missing\u001b[0m\u001b[0;34m.\u001b[0m\u001b[0mindex\u001b[0m\u001b[0;34m]\u001b[0m \u001b[0;34m=\u001b[0m \u001b[0mlist\u001b[0m\u001b[0;34m(\u001b[0m\u001b[0mpd\u001b[0m\u001b[0;34m.\u001b[0m\u001b[0mto_numeric\u001b[0m\u001b[0;34m(\u001b[0m\u001b[0mchunk\u001b[0m\u001b[0;34m[\u001b[0m\u001b[0mfloat_cols_no_missing\u001b[0m\u001b[0;34m.\u001b[0m\u001b[0mindex\u001b[0m\u001b[0;34m]\u001b[0m\u001b[0;34m,\u001b[0m \u001b[0mdowncast\u001b[0m\u001b[0;34m=\u001b[0m\u001b[0;34m'integer'\u001b[0m\u001b[0;34m)\u001b[0m\u001b[0;34m)\u001b[0m\u001b[0;34m\u001b[0m\u001b[0;34m\u001b[0m\u001b[0m\n\u001b[0m\u001b[1;32m     17\u001b[0m \u001b[0;34m\u001b[0m\u001b[0m\n\u001b[1;32m     18\u001b[0m     \u001b[0;31m# Append chunk to list chunk_lst\u001b[0m\u001b[0;34m\u001b[0m\u001b[0;34m\u001b[0m\u001b[0m\n",
            "\u001b[0;32m/usr/local/lib/python3.10/dist-packages/pandas/core/tools/numeric.py\u001b[0m in \u001b[0;36mto_numeric\u001b[0;34m(arg, errors, downcast)\u001b[0m\n\u001b[1;32m    163\u001b[0m         \u001b[0mvalues\u001b[0m \u001b[0;34m=\u001b[0m \u001b[0mnp\u001b[0m\u001b[0;34m.\u001b[0m\u001b[0marray\u001b[0m\u001b[0;34m(\u001b[0m\u001b[0;34m[\u001b[0m\u001b[0marg\u001b[0m\u001b[0;34m]\u001b[0m\u001b[0;34m,\u001b[0m \u001b[0mdtype\u001b[0m\u001b[0;34m=\u001b[0m\u001b[0;34m\"O\"\u001b[0m\u001b[0;34m)\u001b[0m\u001b[0;34m\u001b[0m\u001b[0;34m\u001b[0m\u001b[0m\n\u001b[1;32m    164\u001b[0m     \u001b[0;32melif\u001b[0m \u001b[0mgetattr\u001b[0m\u001b[0;34m(\u001b[0m\u001b[0marg\u001b[0m\u001b[0;34m,\u001b[0m \u001b[0;34m\"ndim\"\u001b[0m\u001b[0;34m,\u001b[0m \u001b[0;36m1\u001b[0m\u001b[0;34m)\u001b[0m \u001b[0;34m>\u001b[0m \u001b[0;36m1\u001b[0m\u001b[0;34m:\u001b[0m\u001b[0;34m\u001b[0m\u001b[0;34m\u001b[0m\u001b[0m\n\u001b[0;32m--> 165\u001b[0;31m         \u001b[0;32mraise\u001b[0m \u001b[0mTypeError\u001b[0m\u001b[0;34m(\u001b[0m\u001b[0;34m\"arg must be a list, tuple, 1-d array, or Series\"\u001b[0m\u001b[0;34m)\u001b[0m\u001b[0;34m\u001b[0m\u001b[0;34m\u001b[0m\u001b[0m\n\u001b[0m\u001b[1;32m    166\u001b[0m     \u001b[0;32melse\u001b[0m\u001b[0;34m:\u001b[0m\u001b[0;34m\u001b[0m\u001b[0;34m\u001b[0m\u001b[0m\n\u001b[1;32m    167\u001b[0m         \u001b[0mvalues\u001b[0m \u001b[0;34m=\u001b[0m \u001b[0marg\u001b[0m\u001b[0;34m\u001b[0m\u001b[0;34m\u001b[0m\u001b[0m\n",
            "\u001b[0;31mTypeError\u001b[0m: arg must be a list, tuple, 1-d array, or Series"
          ]
        }
      ]
    },
    {
      "cell_type": "code",
      "source": [
        "convertCol = [\n",
        "    'loan_amnt' , 'funded_amnt' , 'funded_amnt_inv', 'installment', 'annual_inc','dti' ,'revol_bal',\n",
        "    'total_pymnt', 'total_pymnt_inv', 'total_rec_prncp', 'total_rec_int', 'total_rec_late_fee',\n",
        "    'recoveries' , 'collection_recovery_fee', 'last_pymnt_amnt', 'delinq_amnt'\n",
        "    ]\n",
        "\n",
        "\n",
        "\n",
        "chunk=pd.read_csv('loans_2007.csv', chunksize=3250)\n",
        "cnt=1\n",
        "\n",
        "for i in chunk:\n",
        "  for col in convertCol:\n",
        "    i[col].fillna(0, inplace=True)\n",
        "\n",
        "  #1.2 - Cast to 'int'\n",
        "  for col in convertCol:\n",
        "    i[col] = pd.to_numeric(i[col], downcast='integer')\n",
        "\n",
        "  ##2- Calculate the total memory footprint and compare it with the previous one.\n",
        "  mem=(i.memory_usage(deep=True).sum()/(1024*1024))\n",
        "  print(f\"Chunk -- {cnt} || Total memory used[Mb] -- {mem}\")\n",
        "  cnt+=1"
      ],
      "metadata": {
        "colab": {
          "base_uri": "https://localhost:8080/"
        },
        "id": "Y0yQx0uVZw3C",
        "outputId": "f14c3191-209c-4f55-b2c5-613fe5d5b05c"
      },
      "execution_count": 62,
      "outputs": [
        {
          "output_type": "stream",
          "name": "stdout",
          "text": [
            "Chunk -- 1 || Total memory used[Mb] -- 4.903206825256348\n",
            "Chunk -- 2 || Total memory used[Mb] -- 4.898582458496094\n",
            "Chunk -- 3 || Total memory used[Mb] -- 4.9014692306518555\n",
            "Chunk -- 4 || Total memory used[Mb] -- 4.900121688842773\n",
            "Chunk -- 5 || Total memory used[Mb] -- 4.8991241455078125\n",
            "Chunk -- 6 || Total memory used[Mb] -- 4.897922515869141\n",
            "Chunk -- 7 || Total memory used[Mb] -- 4.900276184082031\n",
            "Chunk -- 8 || Total memory used[Mb] -- 4.8867902755737305\n",
            "Chunk -- 9 || Total memory used[Mb] -- 4.88701057434082\n",
            "Chunk -- 10 || Total memory used[Mb] -- 4.898076057434082\n",
            "Chunk -- 11 || Total memory used[Mb] -- 4.89785099029541\n",
            "Chunk -- 12 || Total memory used[Mb] -- 4.906391143798828\n",
            "Chunk -- 13 || Total memory used[Mb] -- 5.162501335144043\n",
            "Chunk -- 14 || Total memory used[Mb] -- 0.45707035064697266\n"
          ]
        }
      ]
    },
    {
      "cell_type": "markdown",
      "metadata": {
        "id": "DMJVaj_kxj42"
      },
      "source": [
        "## Next Steps"
      ]
    },
    {
      "cell_type": "markdown",
      "metadata": {
        "id": "H0RL3BzexlkW"
      },
      "source": [
        "We've practiced optimizing a dataframe's memory footprint and working with dataframe chunks. Here's an idea for some next steps:\n",
        "\n",
        "Create a function that automates as much of the work you just did as possible, so that you could use it on other Lending Club data sets. This function should:\n",
        "\n",
        "* Determine the optimal chunk size based on the memory constraints you provide.\n",
        "\n",
        "* Determine which string columns can be converted to numeric ones by removing the `%` character.\n",
        "\n",
        "* Determine which numeric columns can be converted to more space efficient representations.\n"
      ]
    },
    {
      "cell_type": "code",
      "metadata": {
        "id": "1hvuUNzPx1zy",
        "colab": {
          "base_uri": "https://localhost:8080/"
        },
        "outputId": "e6684c62-30af-4ff6-e338-8780454c2876"
      },
      "source": [
        "# Your code goes here\n",
        "\n",
        "def chunk_size(csv_file, available_mem, start_chunk_size, chunk_step):\n",
        "  no_rows = start_chunk_size\n",
        "  chunk_memory =0\n",
        "  while(chunk_memory < available_mem):\n",
        "    no_rows += chunk_step\n",
        "    chunk = pd.read_csv(csv_file, nrows=no_rows,)\n",
        "    chunk_memory = chunk.memory_usage(deep=True).sum()/(1024*1024)\n",
        "\n",
        "\n",
        "  return no_rows-chunk_step\n",
        "\n",
        "no_rows = chunk_size('loans_2007.csv', 5, 3000, 50)\n",
        "print(no_rows)"
      ],
      "execution_count": 60,
      "outputs": [
        {
          "output_type": "stream",
          "name": "stdout",
          "text": [
            "3250\n"
          ]
        }
      ]
    },
    {
      "cell_type": "code",
      "source": [
        "def optimisecolumns(df):\n",
        "  numeric_cols = df.select_dtypes(exclude=['object'])\n",
        "  cols_missing_value = numeric_cols.isnull().sum()\n",
        "  int_cols = list(cols_missing_value[cols_missing_value == 0].index)\n",
        "  float_cols = list(cols_missing_value[cols_missing_value >0].index)\n",
        "\n",
        "  return int_cols, float_cols\n",
        "\n",
        "#\n",
        "loans = pd.read_csv('loans_2007.csv')\n",
        "loans['id']=pd.to_numeric(loans['id'], errors='coerce')\n",
        "loans.dropna(axis=0, subset=['id'], inplace=True)\n",
        "\n",
        "x,y = optimisecolumns(loans)\n",
        "print(f'int columns: {x}')\n",
        "print(f'float columns: {y}')"
      ],
      "metadata": {
        "colab": {
          "base_uri": "https://localhost:8080/"
        },
        "id": "5oi2Wf_jZXNa",
        "outputId": "409e80db-a9c5-4f6b-ba84-37d62dd8bbff"
      },
      "execution_count": 61,
      "outputs": [
        {
          "output_type": "stream",
          "name": "stdout",
          "text": [
            "int columns: ['id', 'member_id', 'loan_amnt', 'funded_amnt', 'funded_amnt_inv', 'installment', 'dti', 'revol_bal', 'out_prncp', 'out_prncp_inv', 'total_pymnt', 'total_pymnt_inv', 'total_rec_prncp', 'total_rec_int', 'total_rec_late_fee', 'recoveries', 'collection_recovery_fee', 'last_pymnt_amnt', 'policy_code']\n",
            "float columns: ['annual_inc', 'delinq_2yrs', 'inq_last_6mths', 'open_acc', 'pub_rec', 'total_acc', 'collections_12_mths_ex_med', 'acc_now_delinq', 'chargeoff_within_12_mths', 'delinq_amnt', 'pub_rec_bankruptcies', 'tax_liens']\n"
          ]
        },
        {
          "output_type": "stream",
          "name": "stderr",
          "text": [
            "<ipython-input-61-1b42503c5740>:10: DtypeWarning: Columns (0) have mixed types. Specify dtype option on import or set low_memory=False.\n",
            "  loans = pd.read_csv('loans_2007.csv')\n"
          ]
        }
      ]
    }
  ]
}